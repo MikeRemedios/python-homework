{
 "cells": [
  {
   "cell_type": "code",
   "execution_count": 17,
   "metadata": {},
   "outputs": [],
   "source": [
    "import csv\n",
    "from pathlib import Path"
   ]
  },
  {
   "cell_type": "code",
   "execution_count": 30,
   "metadata": {},
   "outputs": [
    {
     "name": "stdout",
     "output_type": "stream",
     "text": [
      "spicy miso ramen:{'01-count': 9238, '02-revenue': 110856.0, '03-cogs': 46190.0, '04-profit': 64666.0}\n",
      "tori paitan ramen:{'01-count': 9156, '02-revenue': 119028.0, '03-cogs': 54936.0, '04-profit': 64092.0}\n",
      "truffle butter ramen:{'01-count': 8982, '02-revenue': 125748.0, '03-cogs': 62874.0, '04-profit': 62874.0}\n",
      "tonkotsu ramen:{'01-count': 9288, '02-revenue': 120744.0, '03-cogs': 55728.0, '04-profit': 65016.0}\n",
      "vegetarian spicy miso:{'01-count': 9216, '02-revenue': 110592.0, '03-cogs': 46080.0, '04-profit': 64512.0}\n",
      "shio ramen:{'01-count': 9180, '02-revenue': 100980.0, '03-cogs': 45900.0, '04-profit': 55080.0}\n",
      "miso crab ramen:{'01-count': 8890, '02-revenue': 106680.0, '03-cogs': 53340.0, '04-profit': 53340.0}\n",
      "nagomi shoyu:{'01-count': 9132, '02-revenue': 100452.0, '03-cogs': 45660.0, '04-profit': 54792.0}\n",
      "soft-shell miso crab ramen:{'01-count': 9130, '02-revenue': 127820.0, '03-cogs': 63910.0, '04-profit': 63910.0}\n",
      "burnt garlic tonkotsu ramen:{'01-count': 9070, '02-revenue': 126980.0, '03-cogs': 54420.0, '04-profit': 72560.0}\n",
      "vegetarian curry + king trumpet mushroom ramen:{'01-count': 8824, '02-revenue': 114712.0, '03-cogs': 61768.0, '04-profit': 52944.0}\n",
      "\n"
     ]
    }
   ],
   "source": [
    "menu = []\n",
    "sales = []\n",
    "report = {}\n",
    "\n",
    "#write menu_data.csv to list\n",
    "p = Path('./Resources/menu_data.csv')\n",
    "with p.open() as csvfile:\n",
    "    reader = csv.reader(csvfile,delimiter=',')\n",
    "    next(reader)\n",
    "    for row in reader:\n",
    "        menu.append(row)\n",
    "        \n",
    "#write sales_data.csv to list\n",
    "p = Path('./Resources/sales_data.csv')\n",
    "with p.open() as csvfile:\n",
    "    reader = csv.reader(csvfile,delimiter=',')\n",
    "    next(reader)\n",
    "    for row in reader:\n",
    "        sales.append(row)\n",
    "\n",
    "#loop through sales list, init menu_item in report if doesn't yet exist\n",
    "for sale in sales:\n",
    "    quantity = int(sale[3])\n",
    "    menu_item = sale[4]\n",
    "    if menu_item not in report:\n",
    "        report.update({menu_item:\n",
    "                       {\"01-count\": 0,\n",
    "                        \"02-revenue\": 0,\n",
    "                        \"03-cogs\": 0,\n",
    "                        \"04-profit\": 0}})\n",
    "    for item in menu:\n",
    "        if item[0] == menu_item:\n",
    "            price = float(item[3]) #float since potential decimals\n",
    "            cost = float(item[4])\n",
    "            profit = price-cost\n",
    "            report[menu_item][\"01-count\"] += quantity\n",
    "            report[menu_item][\"02-revenue\"] += price * quantity\n",
    "            report[menu_item][\"03-cogs\"] += cost * quantity\n",
    "            report[menu_item][\"04-profit\"] += profit * quantity\n",
    "        #else:\n",
    "            #print(f\"{menu_item} does not equal {item[0]}! NO MATCH!\")            \n",
    "#Commented out since this prints way too many lines and the kernel hangs\n",
    "        \n",
    "output_txt = \"\"\n",
    "p_out = Path(\"output.txt\")\n",
    "if not p_out.exists():\n",
    "    p_out.touch()\n",
    "\n",
    "for k,v in report.items():\n",
    "    output_txt += (f'{k}:{v}\\n')\n",
    "    \n",
    "#writes to output\n",
    "p_out.write_text(output_txt)\n",
    "print(output_txt)# for easy checking"
   ]
  },
  {
   "cell_type": "code",
   "execution_count": null,
   "metadata": {},
   "outputs": [],
   "source": []
  }
 ],
 "metadata": {
  "kernelspec": {
   "display_name": "Python 3",
   "language": "python",
   "name": "python3"
  },
  "language_info": {
   "codemirror_mode": {
    "name": "ipython",
    "version": 3
   },
   "file_extension": ".py",
   "mimetype": "text/x-python",
   "name": "python",
   "nbconvert_exporter": "python",
   "pygments_lexer": "ipython3",
   "version": "3.8.5"
  }
 },
 "nbformat": 4,
 "nbformat_minor": 4
}
