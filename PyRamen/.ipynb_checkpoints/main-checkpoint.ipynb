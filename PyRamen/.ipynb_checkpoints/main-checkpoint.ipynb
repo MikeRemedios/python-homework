{
 "cells": [
  {
   "cell_type": "code",
   "execution_count": 1,
   "metadata": {},
   "outputs": [],
   "source": [
    "import csv\n",
    "from pathlib import Path"
   ]
  },
  {
   "cell_type": "code",
   "execution_count": null,
   "metadata": {},
   "outputs": [],
   "source": [
    "menu = []\n",
    "sales = []\n",
    "report = {}\n",
    "\n",
    "#write menu_data.csv to list\n",
    "p = Path('./Resources/menu_data.csv')\n",
    "with p.open() as csvfile:\n",
    "    reader = csv.reader(csvfile,delimiter=',')\n",
    "    next(reader)\n",
    "    for row in reader:\n",
    "        menu.append(row)\n",
    "        \n",
    "#write sales_data.csv to list\n",
    "p = Path('./Resources/sales_data.csv')\n",
    "with p.open() as csvfile:\n",
    "    reader = csv.reader(csvfile,delimiter=',')\n",
    "    next(reader)\n",
    "    for row in reader:\n",
    "        sales.append(row)\n",
    "        \n"
   ]
  }
 ],
 "metadata": {
  "kernelspec": {
   "display_name": "Python 3",
   "language": "python",
   "name": "python3"
  },
  "language_info": {
   "codemirror_mode": {
    "name": "ipython",
    "version": 3
   },
   "file_extension": ".py",
   "mimetype": "text/x-python",
   "name": "python",
   "nbconvert_exporter": "python",
   "pygments_lexer": "ipython3",
   "version": "3.8.5"
  }
 },
 "nbformat": 4,
 "nbformat_minor": 4
}
