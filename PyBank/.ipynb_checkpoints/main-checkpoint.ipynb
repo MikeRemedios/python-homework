{
 "cells": [
  {
   "cell_type": "code",
   "execution_count": 1,
   "metadata": {},
   "outputs": [],
   "source": [
    "import csv"
   ]
  },
  {
   "cell_type": "code",
   "execution_count": 2,
   "metadata": {},
   "outputs": [],
   "source": [
    "from pathlib import Path"
   ]
  },
  {
   "cell_type": "code",
   "execution_count": 5,
   "metadata": {},
   "outputs": [],
   "source": [
    "p = Path('./Resources/budget_data.csv')"
   ]
  },
  {
   "cell_type": "code",
   "execution_count": 7,
   "metadata": {},
   "outputs": [
    {
     "name": "stdout",
     "output_type": "stream",
     "text": [
      "Financial Analysis\n",
      "-------------------------\n",
      "Total Months: 86\n",
      "Total: 38382578\n",
      "Average Change: 446309.05\n",
      "Greatest Increase in Profits: Feb-2012 ($1170593)\n",
      "Greatest Decrease in Losses: Sep-2013 ($-1196225)\n"
     ]
    },
    {
     "data": {
      "text/plain": [
       "203"
      ]
     },
     "execution_count": 7,
     "metadata": {},
     "output_type": "execute_result"
    }
   ],
   "source": [
    "num_months = 0\n",
    "total = 0\n",
    "avg_change = 0\n",
    "max_increase = 0\n",
    "max_decrease = 0\n",
    "max_inc_month = \"\"\n",
    "max_dec_month = \"\"\n",
    "\n",
    "with p.open() as csvfile:\n",
    "    reader = csv.reader(csvfile, delimiter=',')\n",
    "    next(reader)\n",
    "    for row in reader:\n",
    "        num_months += 1\n",
    "        total += int(row[1])\n",
    "        if int(row[1]) > max_increase:\n",
    "            max_increase = int(row[1])\n",
    "            max_inc_month = row[0]\n",
    "        if int(row[1]) < max_decrease:\n",
    "            max_decrease = int(row[1])\n",
    "            max_dec_month = row[0]\n",
    "            \n",
    "avg_change = total/num_months\n",
    "output_txt = f\"Financial Analysis\\n-------------------------\\nTotal Months: {num_months}\\nTotal: ${total}\\nAverage Change: ${avg_change:.2f}\\nGreatest Increase in Profits: {max_inc_month} (${max_increase})\\nGreatest Decrease in Losses: {max_dec_month} (${max_decrease})\"\n",
    "print(output_txt)\n",
    "\n",
    "p_out = Path(\"output.txt\")\n",
    "if not p_out.exists():\n",
    "    p_out.touch()\n",
    "\n",
    "p_out.write_text(output_txt)"
   ]
  },
  {
   "cell_type": "code",
   "execution_count": null,
   "metadata": {},
   "outputs": [],
   "source": []
  }
 ],
 "metadata": {
  "kernelspec": {
   "display_name": "Python 3",
   "language": "python",
   "name": "python3"
  },
  "language_info": {
   "codemirror_mode": {
    "name": "ipython",
    "version": 3
   },
   "file_extension": ".py",
   "mimetype": "text/x-python",
   "name": "python",
   "nbconvert_exporter": "python",
   "pygments_lexer": "ipython3",
   "version": "3.8.5"
  }
 },
 "nbformat": 4,
 "nbformat_minor": 4
}
