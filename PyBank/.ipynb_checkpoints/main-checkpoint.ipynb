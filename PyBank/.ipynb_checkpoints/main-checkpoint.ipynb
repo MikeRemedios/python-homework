{
 "cells": [
  {
   "cell_type": "code",
   "execution_count": 1,
   "metadata": {},
   "outputs": [],
   "source": [
    "#python-homework PArt 1 - PyBank \n",
    "#https://utoronto.bootcampcontent.com/utoronto-bootcamp/utor-tor-fin-pt-11-2020-u-c/-/tree/master/Homework/02-Python/Instructions\n",
    "#Reads data from csv to determine Max, Min, Average, Sum.\n",
    "#Michael Remedios\n"
   ]
  },
  {
   "cell_type": "code",
   "execution_count": 2,
   "metadata": {},
   "outputs": [],
   "source": [
    "#import csv to read csv, pathlib for IO\n",
    "import csv\n",
    "from pathlib import Path"
   ]
  },
  {
   "cell_type": "code",
   "execution_count": 3,
   "metadata": {},
   "outputs": [],
   "source": [
    "p = Path('./Resources/budget_data.csv') #sets path to input"
   ]
  },
  {
   "cell_type": "code",
   "execution_count": 4,
   "metadata": {},
   "outputs": [
    {
     "name": "stdout",
     "output_type": "stream",
     "text": [
      "Financial Analysis\n",
      "-------------------------\n",
      "Total Months: 86\n",
      "Total: $38382578\n",
      "Average Change: $446309.05\n",
      "Greatest Increase in Profits: Feb-2012 ($1170593)\n",
      "Greatest Decrease in Losses: Sep-2013 ($-1196225)\n"
     ]
    }
   ],
   "source": [
    "#Init global variables\n",
    "num_months = 0\n",
    "total = 0\n",
    "avg_change = 0\n",
    "max_increase = 0\n",
    "max_decrease = 0\n",
    "max_inc_month = \"\"\n",
    "max_dec_month = \"\"\n",
    "\n",
    "#open csv and use csv.reader to iterate through csv\n",
    "with p.open() as csvfile:\n",
    "    reader = csv.reader(csvfile, delimiter=',')\n",
    "    next(reader) #move iterator to next row\n",
    "    for row in reader: #row[0] = month, row[1] = Profit/Loss\n",
    "        value = int(row[1]) #create local var so only one typecast performed\n",
    "        num_months += 1\n",
    "        total += value\n",
    "        if value > max_increase:\n",
    "            max_increase = value\n",
    "            max_inc_month = row[0]\n",
    "        if value < max_decrease:\n",
    "            max_decrease = value\n",
    "            max_dec_month = row[0]\n",
    "            \n",
    "avg_change = total/num_months #not rounded to keep precision, rounding is performed during string formatting\n",
    "output_txt = (\n",
    "    f\"Financial Analysis\\n\"\n",
    "    f\"-------------------------\\n\"\n",
    "    f\"Total Months: {num_months}\\n\"\n",
    "    f\"Total: ${total}\\n\"\n",
    "    f\"Average Change: ${avg_change:.2f}\\n\"\n",
    "    f\"Greatest Increase in Profits: {max_inc_month} (${max_increase})\\n\"\n",
    "    f\"Greatest Decrease in Losses: {max_dec_month} (${max_decrease})\"\n",
    ")\n",
    "\n",
    "#sets path to output file, creates file if it doesn't exist, otherwise will overwrite.\n",
    "p_out = Path(\"output.txt\")\n",
    "if not p_out.exists():\n",
    "    p_out.touch()\n",
    "\n",
    "p_out.write_text(output_txt)\n",
    "print(output_txt)"
   ]
  },
  {
   "cell_type": "code",
   "execution_count": null,
   "metadata": {},
   "outputs": [],
   "source": []
  },
  {
   "cell_type": "code",
   "execution_count": null,
   "metadata": {},
   "outputs": [],
   "source": []
  }
 ],
 "metadata": {
  "kernelspec": {
   "display_name": "Python 3",
   "language": "python",
   "name": "python3"
  },
  "language_info": {
   "codemirror_mode": {
    "name": "ipython",
    "version": 3
   },
   "file_extension": ".py",
   "mimetype": "text/x-python",
   "name": "python",
   "nbconvert_exporter": "python",
   "pygments_lexer": "ipython3",
   "version": "3.8.5"
  }
 },
 "nbformat": 4,
 "nbformat_minor": 4
}
